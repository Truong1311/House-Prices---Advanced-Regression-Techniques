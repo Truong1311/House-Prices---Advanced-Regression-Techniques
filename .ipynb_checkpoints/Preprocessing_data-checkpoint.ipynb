{
 "cells": [
  {
   "cell_type": "code",
   "execution_count": 125,
   "metadata": {},
   "outputs": [],
   "source": [
    "# IMPORT\n",
    "import pandas as pd\n",
    "import numpy as np\n",
    "from sklearn.pipeline import Pipeline,make_pipeline\n",
    "from sklearn.compose import ColumnTransformer,make_column_transformer\n",
    "from sklearn.impute import SimpleImputer\n",
    "from sklearn.base import BaseEstimator, TransformerMixin\n",
    "from sklearn.preprocessing import OneHotEncoder, StandardScaler\n",
    "from sklearn.model_selection import train_test_split\n",
    "\n",
    "from sklearn import set_config\n",
    "set_config(display='diagram')"
   ]
  },
  {
   "cell_type": "code",
   "execution_count": 129,
   "metadata": {
    "scrolled": true
   },
   "outputs": [],
   "source": [
    "# READ DATA\n",
    "train = pd.read_csv('train.csv')\n",
    "test = pd.read_csv('test.csv')\n",
    "# TÁCH CÁC TẬP:\n"
   ]
  },
  {
   "cell_type": "code",
   "execution_count": 139,
   "metadata": {},
   "outputs": [],
   "source": [
    "class Preprocess(BaseEstimator, TransformerMixin):\n",
    "    def __init__(self):\n",
    "        pass\n",
    "    def fit(self, tr_X, y=None):\n",
    "        return self\n",
    "    def transform(self, X_df, y=None):\n",
    "        df = X_df.copy()\n",
    "        # Chuyển đổi thuộc tính dạng numberic sang Categorical.\n",
    "        for col in ('MSSubClass', 'YrSold', 'MoSold'):\n",
    "            df[col] = df[col].astype(str)\n",
    "        # Xóa các thuộc tính không cần thiết, và thêm thuộc tính mới vào.\n",
    "        df['HasPool'] = df['PoolQC'].isna().apply(lambda x : 0 if x == True else 1)\n",
    "        df.drop(columns=['Id','Street','Utilities','PoolQC'], inplace = True)\n",
    "        \n",
    "        # chuyển các thuộc categorical sang dạng nominal có thứ tự.\n",
    "        col1s = ['HeatingQC','KitchenQual','ExterQual','ExterCond','FireplaceQu','BsmtQual','BsmtCond','GarageQual','GarageCond']\n",
    "        for col in col1s:\n",
    "            df[col].replace(to_replace=['Ex','Gd','TA','Fa','Po',np.nan], value=[5,4,3,2,1,0],inplace = True)\n",
    "        df['Alley'].replace(to_replace=['Grvl','Pave',np.nan], value=[1,2,0],inplace = True)\n",
    "        df['LotShape'].replace(to_replace=['Reg','IR1','IR2','IR3'],value=[4,3,2,1],inplace = True)\n",
    "        df['LandContour'].replace(to_replace=['Lvl','Bnk','HLS','Low'], value=[2,3,1,0],inplace = True)\n",
    "        df['LandSlope'].replace(to_replace=['Gtl','Mod','Sev'], value=[2,1,0],inplace = True)\n",
    "        df['RoofMatl'].replace(to_replace=['ClyTile','CompShg','Membran','Metal',\\\n",
    "                                                     'Roll','Tar&Grv','WdShake','WdShngl'], value=[2,4,1,1,1,3,1,1],inplace = True)\n",
    "        df['BsmtExposure'].replace(to_replace=['Gd','Av','Mn','No',np.nan], value=[4,3,2,1,0],inplace = True)\n",
    "        df['BsmtFinType1'].replace(to_replace=['GLQ','ALQ','BLQ','Rec','LwQ','Unf',np.nan],\\\n",
    "                                                 value=[6,5,4,3,2,1,0],inplace = True)\n",
    "        df['BsmtFinType2'].replace(to_replace=['GLQ','ALQ','BLQ','Rec','LwQ','Unf',np.nan]\\\n",
    "                                                 , value=[6,5,4,3,2,1,0],inplace = True)\n",
    "        df['Functional'].replace(to_replace=['Typ','Min1','Min2','Mod','Maj1','Maj2','Sev','Sal'],\\\n",
    "                                             value=[5,2,2,3,4,4,0,1],inplace = True)\n",
    "        df['GarageType'].replace(to_replace=['2Types','Attchd','Basment','BuiltIn','CarPort','Detchd',np.nan],\\\n",
    "                                             value=[1,2,2,2,2,1,0],inplace = True)\n",
    "        df['GarageFinish'].replace(to_replace=['Fin','RFn','Unf',np.nan],value=[3,2,1,0],inplace = True)\n",
    "        df['PavedDrive'].replace(to_replace=['Y','P','N'], value=[2,1,0],inplace = True)\n",
    "        df['Fence'].replace(to_replace=['GdPrv','MnPrv','GdWo','MnWw',np.nan], value=[4,3,2,1,0],inplace = True)\n",
    "        df['RoofStyle'].replace(to_replace=['Flat','Gable','Gambrel','Hip','Mansard','Shed'],\\\n",
    "                                           value=[1,2,1,2,1,1],inplace = True)\n",
    "        # fillna các cột Categorical\n",
    "        Cate_cols = df.select_dtypes(include='object').keys()\n",
    "        df[Cate_cols] = df[Cate_cols].fillna('None')\n",
    "        # fillna các cột GarageYrBlt và LotFrontage\n",
    "        df['GarageYrBlt'].fillna(df['YearBuilt'],inplace = True)\n",
    "        df['LotFrontage'].fillna(0,inplace = True)\n",
    "        return df"
   ]
  },
  {
   "cell_type": "code",
   "execution_count": 140,
   "metadata": {},
   "outputs": [],
   "source": [
    "cate_cols = ['MSSubClass', 'MSZoning', 'LotConfig', 'Neighborhood', 'Condition1',\n",
    "       'Condition2', 'BldgType', 'HouseStyle', 'Exterior1st', 'Exterior2nd',\n",
    "       'MasVnrType', 'Foundation', 'Heating', 'CentralAir', 'Electrical',\n",
    "       'MiscFeature', 'MoSold', 'YrSold', 'SaleType', 'SaleCondition']\n",
    "num_cols = ['1stFlrSF', '2ndFlrSF', '3SsnPorch', 'Alley', 'BedroomAbvGr',\n",
    "       'BsmtCond', 'BsmtExposure', 'BsmtFinSF1', 'BsmtFinSF2', 'BsmtFinType1',\n",
    "       'BsmtFinType2', 'BsmtFullBath', 'BsmtHalfBath', 'BsmtQual', 'BsmtUnfSF',\n",
    "       'EnclosedPorch', 'ExterCond', 'ExterQual', 'Fence', 'FireplaceQu',\n",
    "       'Fireplaces', 'FullBath', 'Functional', 'GarageArea', 'GarageCars',\n",
    "       'GarageCond', 'GarageFinish', 'GarageQual', 'GarageType', 'GarageYrBlt',\n",
    "       'GrLivArea', 'HalfBath', 'HasPool', 'HeatingQC', 'KitchenAbvGr',\n",
    "       'KitchenQual', 'LandContour', 'LandSlope', 'LotArea', 'LotFrontage',\n",
    "       'LotShape', 'LowQualFinSF', 'MasVnrArea', 'MiscVal', 'OpenPorchSF',\n",
    "       'OverallCond', 'OverallQual', 'PavedDrive', 'PoolArea', 'RoofMatl',\n",
    "       'RoofStyle', 'SalePrice', 'ScreenPorch', 'TotRmsAbvGrd', 'TotalBsmtSF',\n",
    "       'WoodDeckSF', 'YearBuilt', 'YearRemodAdd']\n",
    "\n",
    "preprocess = make_pipeline(\n",
    "    (Preprocess()),\n",
    "    (make_column_transformer(\n",
    "        (OneHotEncoder(),cate_cols),\n",
    "        (StandardScaler(),num_cols)\n",
    "    ))\n",
    ")"
   ]
  },
  {
   "cell_type": "code",
   "execution_count": 141,
   "metadata": {},
   "outputs": [
    {
     "data": {
      "text/html": [
       "<style>#sk-b1dbd016-d988-4f5d-9edd-188a7f89901f {color: black;background-color: white;}#sk-b1dbd016-d988-4f5d-9edd-188a7f89901f pre{padding: 0;}#sk-b1dbd016-d988-4f5d-9edd-188a7f89901f div.sk-toggleable {background-color: white;}#sk-b1dbd016-d988-4f5d-9edd-188a7f89901f label.sk-toggleable__label {cursor: pointer;display: block;width: 100%;margin-bottom: 0;padding: 0.2em 0.3em;box-sizing: border-box;text-align: center;}#sk-b1dbd016-d988-4f5d-9edd-188a7f89901f div.sk-toggleable__content {max-height: 0;max-width: 0;overflow: hidden;text-align: left;background-color: #f0f8ff;}#sk-b1dbd016-d988-4f5d-9edd-188a7f89901f div.sk-toggleable__content pre {margin: 0.2em;color: black;border-radius: 0.25em;background-color: #f0f8ff;}#sk-b1dbd016-d988-4f5d-9edd-188a7f89901f input.sk-toggleable__control:checked~div.sk-toggleable__content {max-height: 200px;max-width: 100%;overflow: auto;}#sk-b1dbd016-d988-4f5d-9edd-188a7f89901f div.sk-estimator input.sk-toggleable__control:checked~label.sk-toggleable__label {background-color: #d4ebff;}#sk-b1dbd016-d988-4f5d-9edd-188a7f89901f div.sk-label input.sk-toggleable__control:checked~label.sk-toggleable__label {background-color: #d4ebff;}#sk-b1dbd016-d988-4f5d-9edd-188a7f89901f input.sk-hidden--visually {border: 0;clip: rect(1px 1px 1px 1px);clip: rect(1px, 1px, 1px, 1px);height: 1px;margin: -1px;overflow: hidden;padding: 0;position: absolute;width: 1px;}#sk-b1dbd016-d988-4f5d-9edd-188a7f89901f div.sk-estimator {font-family: monospace;background-color: #f0f8ff;margin: 0.25em 0.25em;border: 1px dotted black;border-radius: 0.25em;box-sizing: border-box;}#sk-b1dbd016-d988-4f5d-9edd-188a7f89901f div.sk-estimator:hover {background-color: #d4ebff;}#sk-b1dbd016-d988-4f5d-9edd-188a7f89901f div.sk-parallel-item::after {content: \"\";width: 100%;border-bottom: 1px solid gray;flex-grow: 1;}#sk-b1dbd016-d988-4f5d-9edd-188a7f89901f div.sk-label:hover label.sk-toggleable__label {background-color: #d4ebff;}#sk-b1dbd016-d988-4f5d-9edd-188a7f89901f div.sk-serial::before {content: \"\";position: absolute;border-left: 1px solid gray;box-sizing: border-box;top: 2em;bottom: 0;left: 50%;}#sk-b1dbd016-d988-4f5d-9edd-188a7f89901f div.sk-serial {display: flex;flex-direction: column;align-items: center;background-color: white;}#sk-b1dbd016-d988-4f5d-9edd-188a7f89901f div.sk-item {z-index: 1;}#sk-b1dbd016-d988-4f5d-9edd-188a7f89901f div.sk-parallel {display: flex;align-items: stretch;justify-content: center;background-color: white;}#sk-b1dbd016-d988-4f5d-9edd-188a7f89901f div.sk-parallel-item {display: flex;flex-direction: column;position: relative;background-color: white;}#sk-b1dbd016-d988-4f5d-9edd-188a7f89901f div.sk-parallel-item:first-child::after {align-self: flex-end;width: 50%;}#sk-b1dbd016-d988-4f5d-9edd-188a7f89901f div.sk-parallel-item:last-child::after {align-self: flex-start;width: 50%;}#sk-b1dbd016-d988-4f5d-9edd-188a7f89901f div.sk-parallel-item:only-child::after {width: 0;}#sk-b1dbd016-d988-4f5d-9edd-188a7f89901f div.sk-dashed-wrapped {border: 1px dashed gray;margin: 0.2em;box-sizing: border-box;padding-bottom: 0.1em;background-color: white;position: relative;}#sk-b1dbd016-d988-4f5d-9edd-188a7f89901f div.sk-label label {font-family: monospace;font-weight: bold;background-color: white;display: inline-block;line-height: 1.2em;}#sk-b1dbd016-d988-4f5d-9edd-188a7f89901f div.sk-label-container {position: relative;z-index: 2;text-align: center;}#sk-b1dbd016-d988-4f5d-9edd-188a7f89901f div.sk-container {display: inline-block;position: relative;}</style><div id=\"sk-b1dbd016-d988-4f5d-9edd-188a7f89901f\" class\"sk-top-container\"><div class=\"sk-container\"><div class=\"sk-item sk-dashed-wrapped\"><div class=\"sk-label-container\"><div class=\"sk-label sk-toggleable\"><input class=\"sk-toggleable__control sk-hidden--visually\" id=\"c14ef681-a0f4-4039-8c41-639cd2577c47\" type=\"checkbox\" ><label class=\"sk-toggleable__label\" for=\"c14ef681-a0f4-4039-8c41-639cd2577c47\">Pipeline</label><div class=\"sk-toggleable__content\"><pre>Pipeline(steps=[('preprocess', Preprocess()),\n",
       "                ('columntransformer',\n",
       "                 ColumnTransformer(transformers=[('onehotencoder',\n",
       "                                                  OneHotEncoder(),\n",
       "                                                  ['MSSubClass', 'MSZoning',\n",
       "                                                   'LotConfig', 'Neighborhood',\n",
       "                                                   'Condition1', 'Condition2',\n",
       "                                                   'BldgType', 'HouseStyle',\n",
       "                                                   'Exterior1st', 'Exterior2nd',\n",
       "                                                   'MasVnrType', 'Foundation',\n",
       "                                                   'Heating', 'CentralAir',\n",
       "                                                   'Electrical', 'MiscFeature',\n",
       "                                                   'MoSold', 'YrSo...\n",
       "                                                   'BedroomAbvGr', 'BsmtCond',\n",
       "                                                   'BsmtExposure', 'BsmtFinSF1',\n",
       "                                                   'BsmtFinSF2', 'BsmtFinType1',\n",
       "                                                   'BsmtFinType2',\n",
       "                                                   'BsmtFullBath',\n",
       "                                                   'BsmtHalfBath', 'BsmtQual',\n",
       "                                                   'BsmtUnfSF', 'EnclosedPorch',\n",
       "                                                   'ExterCond', 'ExterQual',\n",
       "                                                   'Fence', 'FireplaceQu',\n",
       "                                                   'Fireplaces', 'FullBath',\n",
       "                                                   'Functional', 'GarageArea',\n",
       "                                                   'GarageCars', 'GarageCond',\n",
       "                                                   'GarageFinish', 'GarageQual',\n",
       "                                                   'GarageType', 'GarageYrBlt', ...])]))])</pre></div></div></div><div class=\"sk-serial\"><div class=\"sk-item\"><div class=\"sk-estimator sk-toggleable\"><input class=\"sk-toggleable__control sk-hidden--visually\" id=\"1815a043-0117-4c53-9da4-ba0ebc067362\" type=\"checkbox\" ><label class=\"sk-toggleable__label\" for=\"1815a043-0117-4c53-9da4-ba0ebc067362\">Preprocess</label><div class=\"sk-toggleable__content\"><pre>Preprocess()</pre></div></div></div><div class=\"sk-item sk-dashed-wrapped\"><div class=\"sk-label-container\"><div class=\"sk-label sk-toggleable\"><input class=\"sk-toggleable__control sk-hidden--visually\" id=\"493eecc9-c3ba-4112-84a1-98567a926c9a\" type=\"checkbox\" ><label class=\"sk-toggleable__label\" for=\"493eecc9-c3ba-4112-84a1-98567a926c9a\">columntransformer: ColumnTransformer</label><div class=\"sk-toggleable__content\"><pre>ColumnTransformer(transformers=[('onehotencoder', OneHotEncoder(),\n",
       "                                 ['MSSubClass', 'MSZoning', 'LotConfig',\n",
       "                                  'Neighborhood', 'Condition1', 'Condition2',\n",
       "                                  'BldgType', 'HouseStyle', 'Exterior1st',\n",
       "                                  'Exterior2nd', 'MasVnrType', 'Foundation',\n",
       "                                  'Heating', 'CentralAir', 'Electrical',\n",
       "                                  'MiscFeature', 'MoSold', 'YrSold', 'SaleType',\n",
       "                                  'SaleCondition']),\n",
       "                                ('standardscaler', StandardScaler...\n",
       "                                  'BedroomAbvGr', 'BsmtCond', 'BsmtExposure',\n",
       "                                  'BsmtFinSF1', 'BsmtFinSF2', 'BsmtFinType1',\n",
       "                                  'BsmtFinType2', 'BsmtFullBath',\n",
       "                                  'BsmtHalfBath', 'BsmtQual', 'BsmtUnfSF',\n",
       "                                  'EnclosedPorch', 'ExterCond', 'ExterQual',\n",
       "                                  'Fence', 'FireplaceQu', 'Fireplaces',\n",
       "                                  'FullBath', 'Functional', 'GarageArea',\n",
       "                                  'GarageCars', 'GarageCond', 'GarageFinish',\n",
       "                                  'GarageQual', 'GarageType', 'GarageYrBlt', ...])])</pre></div></div></div><div class=\"sk-parallel\"><div class=\"sk-parallel-item\"><div class=\"sk-item\"><div class=\"sk-label-container\"><div class=\"sk-label sk-toggleable\"><input class=\"sk-toggleable__control sk-hidden--visually\" id=\"d69dce18-0c6b-456d-aba2-d969b248859e\" type=\"checkbox\" ><label class=\"sk-toggleable__label\" for=\"d69dce18-0c6b-456d-aba2-d969b248859e\">onehotencoder</label><div class=\"sk-toggleable__content\"><pre>['MSSubClass', 'MSZoning', 'LotConfig', 'Neighborhood', 'Condition1', 'Condition2', 'BldgType', 'HouseStyle', 'Exterior1st', 'Exterior2nd', 'MasVnrType', 'Foundation', 'Heating', 'CentralAir', 'Electrical', 'MiscFeature', 'MoSold', 'YrSold', 'SaleType', 'SaleCondition']</pre></div></div></div><div class=\"sk-serial\"><div class=\"sk-item\"><div class=\"sk-estimator sk-toggleable\"><input class=\"sk-toggleable__control sk-hidden--visually\" id=\"61af724e-503f-4994-8544-76c9a208c948\" type=\"checkbox\" ><label class=\"sk-toggleable__label\" for=\"61af724e-503f-4994-8544-76c9a208c948\">OneHotEncoder</label><div class=\"sk-toggleable__content\"><pre>OneHotEncoder()</pre></div></div></div></div></div></div><div class=\"sk-parallel-item\"><div class=\"sk-item\"><div class=\"sk-label-container\"><div class=\"sk-label sk-toggleable\"><input class=\"sk-toggleable__control sk-hidden--visually\" id=\"8dc5b090-c361-4152-8183-f3ade85040b0\" type=\"checkbox\" ><label class=\"sk-toggleable__label\" for=\"8dc5b090-c361-4152-8183-f3ade85040b0\">standardscaler</label><div class=\"sk-toggleable__content\"><pre>['1stFlrSF', '2ndFlrSF', '3SsnPorch', 'Alley', 'BedroomAbvGr', 'BsmtCond', 'BsmtExposure', 'BsmtFinSF1', 'BsmtFinSF2', 'BsmtFinType1', 'BsmtFinType2', 'BsmtFullBath', 'BsmtHalfBath', 'BsmtQual', 'BsmtUnfSF', 'EnclosedPorch', 'ExterCond', 'ExterQual', 'Fence', 'FireplaceQu', 'Fireplaces', 'FullBath', 'Functional', 'GarageArea', 'GarageCars', 'GarageCond', 'GarageFinish', 'GarageQual', 'GarageType', 'GarageYrBlt', 'GrLivArea', 'HalfBath', 'HasPool', 'HeatingQC', 'KitchenAbvGr', 'KitchenQual', 'LandContour', 'LandSlope', 'LotArea', 'LotFrontage', 'LotShape', 'LowQualFinSF', 'MasVnrArea', 'MiscVal', 'OpenPorchSF', 'OverallCond', 'OverallQual', 'PavedDrive', 'PoolArea', 'RoofMatl', 'RoofStyle', 'SalePrice', 'ScreenPorch', 'TotRmsAbvGrd', 'TotalBsmtSF', 'WoodDeckSF', 'YearBuilt', 'YearRemodAdd']</pre></div></div></div><div class=\"sk-serial\"><div class=\"sk-item\"><div class=\"sk-estimator sk-toggleable\"><input class=\"sk-toggleable__control sk-hidden--visually\" id=\"ac7d735d-9484-4db4-b014-91c81ea545f1\" type=\"checkbox\" ><label class=\"sk-toggleable__label\" for=\"ac7d735d-9484-4db4-b014-91c81ea545f1\">StandardScaler</label><div class=\"sk-toggleable__content\"><pre>StandardScaler()</pre></div></div></div></div></div></div></div></div></div></div></div></div>"
      ],
      "text/plain": [
       "Pipeline(steps=[('preprocess', Preprocess()),\n",
       "                ('columntransformer',\n",
       "                 ColumnTransformer(transformers=[('onehotencoder',\n",
       "                                                  OneHotEncoder(),\n",
       "                                                  ['MSSubClass', 'MSZoning',\n",
       "                                                   'LotConfig', 'Neighborhood',\n",
       "                                                   'Condition1', 'Condition2',\n",
       "                                                   'BldgType', 'HouseStyle',\n",
       "                                                   'Exterior1st', 'Exterior2nd',\n",
       "                                                   'MasVnrType', 'Foundation',\n",
       "                                                   'Heating', 'CentralAir',\n",
       "                                                   'Electrical', 'MiscFeature',\n",
       "                                                   'MoSold', 'YrSo...\n",
       "                                                   'BedroomAbvGr', 'BsmtCond',\n",
       "                                                   'BsmtExposure', 'BsmtFinSF1',\n",
       "                                                   'BsmtFinSF2', 'BsmtFinType1',\n",
       "                                                   'BsmtFinType2',\n",
       "                                                   'BsmtFullBath',\n",
       "                                                   'BsmtHalfBath', 'BsmtQual',\n",
       "                                                   'BsmtUnfSF', 'EnclosedPorch',\n",
       "                                                   'ExterCond', 'ExterQual',\n",
       "                                                   'Fence', 'FireplaceQu',\n",
       "                                                   'Fireplaces', 'FullBath',\n",
       "                                                   'Functional', 'GarageArea',\n",
       "                                                   'GarageCars', 'GarageCond',\n",
       "                                                   'GarageFinish', 'GarageQual',\n",
       "                                                   'GarageType', 'GarageYrBlt', ...])]))])"
      ]
     },
     "execution_count": 141,
     "metadata": {},
     "output_type": "execute_result"
    }
   ],
   "source": [
    "preprocess"
   ]
  },
  {
   "cell_type": "code",
   "execution_count": 143,
   "metadata": {},
   "outputs": [
    {
     "data": {
      "text/plain": [
       "array([[ 0.        ,  0.        ,  0.        , ..., -0.75217584,\n",
       "         1.05099379,  0.87866809],\n",
       "       [ 0.        ,  0.        ,  0.        , ...,  1.62619479,\n",
       "         0.15673371, -0.42957697],\n",
       "       [ 0.        ,  0.        ,  0.        , ..., -0.75217584,\n",
       "         0.9847523 ,  0.83021457],\n",
       "       ...,\n",
       "       [ 0.        ,  0.        ,  0.        , ..., -0.75217584,\n",
       "        -1.00249232,  1.02402865],\n",
       "       [ 0.        ,  0.        ,  0.        , ...,  2.16891024,\n",
       "        -0.70440562,  0.53949344],\n",
       "       [ 0.        ,  0.        ,  0.        , ...,  5.12192075,\n",
       "        -0.20759447, -0.96256569]])"
      ]
     },
     "execution_count": 143,
     "metadata": {},
     "output_type": "execute_result"
    }
   ],
   "source": [
    "preprocess.fit_transform(train)"
   ]
  },
  {
   "cell_type": "code",
   "execution_count": null,
   "metadata": {},
   "outputs": [],
   "source": []
  }
 ],
 "metadata": {
  "kernelspec": {
   "display_name": "Python 3",
   "language": "python",
   "name": "python3"
  },
  "language_info": {
   "codemirror_mode": {
    "name": "ipython",
    "version": 3
   },
   "file_extension": ".py",
   "mimetype": "text/x-python",
   "name": "python",
   "nbconvert_exporter": "python",
   "pygments_lexer": "ipython3",
   "version": "3.8.3"
  }
 },
 "nbformat": 4,
 "nbformat_minor": 4
}
