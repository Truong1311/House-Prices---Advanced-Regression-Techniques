{
 "cells": [
  {
   "cell_type": "code",
   "execution_count": 1,
   "metadata": {},
   "outputs": [],
   "source": [
    "# IMPORT\n",
    "import pandas as pd\n",
    "import numpy as np\n",
    "from sklearn.pipeline import Pipeline,make_pipeline\n",
    "from sklearn.compose import ColumnTransformer,make_column_transformer\n",
    "from sklearn.impute import SimpleImputer\n",
    "from sklearn.base import BaseEstimator, TransformerMixin\n",
    "from sklearn.preprocessing import OneHotEncoder, StandardScaler\n",
    "#model\n",
    "from sklearn.linear_model import LinearRegression, Ridge, Lasso, ElasticNet, SGDRegressor\n",
    "from sklearn.ensemble import BaggingRegressor, AdaBoostRegressor,GradientBoostingRegressor,\\\n",
    "                             RandomForestRegressor,  GradientBoostingRegressor\n",
    "from xgboost import XGBRegressor\n",
    "from sklearn.svm import SVR\n",
    "# measure\n",
    "from sklearn.metrics import mean_absolute_error\n",
    "from sklearn.model_selection import cross_val_score\n",
    "from sklearn.model_selection import GridSearchCV\n",
    "from sklearn.model_selection import KFold\n",
    "from sklearn.metrics import mean_squared_error\n",
    "from sklearn import set_config\n",
    "set_config(display='diagram')"
   ]
  },
  {
   "cell_type": "code",
   "execution_count": 2,
   "metadata": {
    "scrolled": true
   },
   "outputs": [],
   "source": [
    "# READ DATA\n",
    "train = pd.read_csv('train.csv')\n",
    "test = pd.read_csv('test.csv')\n",
    "# TÁCH CÁC TẬP:\n",
    "X = train.drop(['SalePrice'], axis=1)\n",
    "y = train['SalePrice']"
   ]
  },
  {
   "cell_type": "code",
   "execution_count": 3,
   "metadata": {},
   "outputs": [],
   "source": [
    "class Preprocess(BaseEstimator, TransformerMixin):\n",
    "    def __init__(self):\n",
    "        pass\n",
    "    def fit(self, tr_X, y=None):\n",
    "        return self\n",
    "    def transform(self, X_df, y=None):\n",
    "        df = X_df.copy()\n",
    "        # Chuyển đổi thuộc tính dạng numberic sang Categorical.\n",
    "        for col in ('MSSubClass', 'YrSold', 'MoSold'):\n",
    "            df[col] = df[col].astype(str)\n",
    "        # Xóa các thuộc tính không cần thiết, và thêm thuộc tính mới vào.\n",
    "        df['HasPool'] = df['PoolQC'].isna().apply(lambda x : 0 if x == True else 1)\n",
    "        df['SumFlrSF'] = df['1stFlrSF'] + df['2ndFlrSF']\n",
    "        df['SumYrBultRd'] = df['YearBuilt'] + df['YearRemodAdd']\n",
    "        df['SumBsmtFin'] = df['BsmtFinSF1'] + df['BsmtFinSF2']\n",
    "\n",
    "        df.drop(columns=['Id','Street','Utilities','PoolQC'], inplace = True)\n",
    "        \n",
    "        # chuyển các thuộc categorical sang dạng nominal có thứ tự.\n",
    "        col1s = ['HeatingQC','KitchenQual','ExterQual','ExterCond','FireplaceQu','BsmtQual','BsmtCond','GarageQual','GarageCond']\n",
    "        for col in col1s:\n",
    "            df[col].replace(to_replace=['Ex','Gd','TA','Fa','Po',np.nan], value=[5,4,3,2,1,0],inplace = True)\n",
    "        df['Alley'].replace(to_replace=['Grvl','Pave',np.nan], value=[1,2,0],inplace = True)\n",
    "        df['LotShape'].replace(to_replace=['Reg','IR1','IR2','IR3'],value=[4,3,2,1],inplace = True)\n",
    "        df['LandContour'].replace(to_replace=['Lvl','Bnk','HLS','Low'], value=[2,3,1,0],inplace = True)\n",
    "        df['LandSlope'].replace(to_replace=['Gtl','Mod','Sev'], value=[2,1,0],inplace = True)\n",
    "        df['RoofMatl'].replace(to_replace=['ClyTile','CompShg','Membran','Metal',\\\n",
    "                                                     'Roll','Tar&Grv','WdShake','WdShngl'], value=[2,4,1,1,1,3,1,1],inplace = True)\n",
    "        df['BsmtExposure'].replace(to_replace=['Gd','Av','Mn','No',np.nan], value=[4,3,2,1,0],inplace = True)\n",
    "        df['BsmtFinType1'].replace(to_replace=['GLQ','ALQ','BLQ','Rec','LwQ','Unf',np.nan],\\\n",
    "                                                 value=[6,5,4,3,2,1,0],inplace = True)\n",
    "        df['BsmtFinType2'].replace(to_replace=['GLQ','ALQ','BLQ','Rec','LwQ','Unf',np.nan]\\\n",
    "                                                 , value=[6,5,4,3,2,1,0],inplace = True)\n",
    "        df['Functional'].replace(to_replace=['Typ','Min1','Min2','Mod','Maj1','Maj2','Sev','Sal'],\\\n",
    "                                             value=[5,2,2,3,4,4,0,1],inplace = True)\n",
    "        df['GarageType'].replace(to_replace=['2Types','Attchd','Basment','BuiltIn','CarPort','Detchd',np.nan],\\\n",
    "                                             value=[1,2,2,2,2,1,0],inplace = True)\n",
    "        df['GarageFinish'].replace(to_replace=['Fin','RFn','Unf',np.nan],value=[3,2,1,0],inplace = True)\n",
    "        df['PavedDrive'].replace(to_replace=['Y','P','N'], value=[2,1,0],inplace = True)\n",
    "        df['Fence'].replace(to_replace=['GdPrv','MnPrv','GdWo','MnWw',np.nan], value=[4,3,2,1,0],inplace = True)\n",
    "        df['RoofStyle'].replace(to_replace=['Flat','Gable','Gambrel','Hip','Mansard','Shed'],\\\n",
    "                                           value=[1,2,1,2,1,1],inplace = True)\n",
    "        # fillna các cột Categorical\n",
    "        Cate_cols = df.select_dtypes(include='object').keys()\n",
    "        Num_cols = df.keys().difference(Cate_cols)\n",
    "        df[Cate_cols] = df[Cate_cols].fillna('None')\n",
    "        # fillna các cột GarageYrBlt và các cột numberic còn lại.\n",
    "        df['GarageYrBlt'].fillna(df['YearBuilt'],inplace = True)\n",
    "        df[Num_cols] = df[Num_cols].fillna(0)\n",
    "        return df"
   ]
  },
  {
   "cell_type": "code",
   "execution_count": 4,
   "metadata": {},
   "outputs": [],
   "source": [
    "cate_cols = ['MSSubClass', 'MSZoning', 'LotConfig', 'Neighborhood', 'Condition1',\n",
    "       'Condition2', 'BldgType', 'HouseStyle', 'Exterior1st', 'Exterior2nd',\n",
    "       'MasVnrType', 'Foundation', 'Heating', 'CentralAir', 'Electrical',\n",
    "       'MiscFeature', 'MoSold', 'YrSold', 'SaleType', 'SaleCondition']\n",
    "num_cols = ['1stFlrSF', '2ndFlrSF', '3SsnPorch', 'Alley', 'BedroomAbvGr',\n",
    "       'BsmtCond', 'BsmtExposure', 'BsmtFinSF1', 'BsmtFinSF2', 'BsmtFinType1',\n",
    "       'BsmtFinType2', 'BsmtFullBath', 'BsmtHalfBath', 'BsmtQual', 'BsmtUnfSF',\n",
    "       'EnclosedPorch', 'ExterCond', 'ExterQual', 'Fence', 'FireplaceQu',\n",
    "       'Fireplaces', 'FullBath', 'Functional', 'GarageArea', 'GarageCars',\n",
    "       'GarageCond', 'GarageFinish', 'GarageQual', 'GarageType', 'GarageYrBlt',\n",
    "       'GrLivArea', 'HalfBath', 'HasPool', 'HeatingQC', 'KitchenAbvGr',\n",
    "       'KitchenQual', 'LandContour', 'LandSlope', 'LotArea', 'LotFrontage',\n",
    "       'LotShape', 'LowQualFinSF', 'MasVnrArea', 'MiscVal', 'OpenPorchSF',\n",
    "       'OverallCond', 'OverallQual', 'PavedDrive', 'PoolArea', 'RoofMatl',\n",
    "       'RoofStyle', 'ScreenPorch', 'TotRmsAbvGrd', 'TotalBsmtSF',\n",
    "       'WoodDeckSF', 'YearBuilt', 'YearRemodAdd','SumYrBultRd','SumFlrSF']\n",
    "\n",
    "preprocess = make_pipeline(\n",
    "    (Preprocess()),\n",
    "    (make_column_transformer(\n",
    "        (OneHotEncoder(handle_unknown='ignore'),cate_cols),\n",
    "        (StandardScaler(),num_cols)\n",
    "    ))\n",
    ")"
   ]
  },
  {
   "cell_type": "code",
   "execution_count": 5,
   "metadata": {},
   "outputs": [],
   "source": [
    "def evaluate_model(model, name_model):\n",
    "    scores = -1*cross_val_score(model, X, y, cv=5, scoring='neg_mean_absolute_error')\n",
    "    \n",
    "    print('\\n----Model----: ' + name_model)\n",
    "    print('Mean Score = {}'.format(scores.mean()))"
   ]
  },
  {
   "cell_type": "code",
   "execution_count": 6,
   "metadata": {
    "scrolled": true
   },
   "outputs": [
    {
     "name": "stdout",
     "output_type": "stream",
     "text": [
      "\n",
      "----Model----: LinearRegression\n",
      "Mean Score = 1995462672317645.5\n"
     ]
    },
    {
     "name": "stderr",
     "output_type": "stream",
     "text": [
      "C:\\Users\\TRUONG DANG\\anaconda3\\lib\\site-packages\\sklearn\\linear_model\\_coordinate_descent.py:530: ConvergenceWarning: Objective did not converge. You might want to increase the number of iterations. Duality gap: 164072216193.97223, tolerance: 759214014.2531198\n",
      "  model = cd_fast.enet_coordinate_descent(\n",
      "C:\\Users\\TRUONG DANG\\anaconda3\\lib\\site-packages\\sklearn\\linear_model\\_coordinate_descent.py:530: ConvergenceWarning: Objective did not converge. You might want to increase the number of iterations. Duality gap: 149534495028.6988, tolerance: 728773513.025937\n",
      "  model = cd_fast.enet_coordinate_descent(\n",
      "C:\\Users\\TRUONG DANG\\anaconda3\\lib\\site-packages\\sklearn\\linear_model\\_coordinate_descent.py:530: ConvergenceWarning: Objective did not converge. You might want to increase the number of iterations. Duality gap: 133780274579.53119, tolerance: 699031751.5199751\n",
      "  model = cd_fast.enet_coordinate_descent(\n",
      "C:\\Users\\TRUONG DANG\\anaconda3\\lib\\site-packages\\sklearn\\linear_model\\_coordinate_descent.py:530: ConvergenceWarning: Objective did not converge. You might want to increase the number of iterations. Duality gap: 158402009631.68036, tolerance: 770619031.1834061\n",
      "  model = cd_fast.enet_coordinate_descent(\n",
      "C:\\Users\\TRUONG DANG\\anaconda3\\lib\\site-packages\\sklearn\\linear_model\\_coordinate_descent.py:530: ConvergenceWarning: Objective did not converge. You might want to increase the number of iterations. Duality gap: 118681730281.92456, tolerance: 724930391.3116124\n",
      "  model = cd_fast.enet_coordinate_descent(\n"
     ]
    },
    {
     "name": "stdout",
     "output_type": "stream",
     "text": [
      "\n",
      "----Model----: Lasso\n",
      "Mean Score = 20983.29087080622\n",
      "\n",
      "----Model----: ElasticNet\n",
      "Mean Score = 19879.804219984093\n",
      "\n",
      "----Model----: SGDRegressor\n",
      "Mean Score = 20825.54872742248\n",
      "\n",
      "----Model----: BaggingRegressor\n",
      "Mean Score = 19301.219794520548\n",
      "\n",
      "----Model----: AdaBoostRegressor\n",
      "Mean Score = 23807.49752761676\n",
      "\n",
      "----Model----: GradientBoostingRegressor\n",
      "Mean Score = 15801.110993035958\n",
      "\n",
      "----Model----: RandomForestRegressor\n",
      "Mean Score = 17349.11113013699\n",
      "\n",
      "----Model----: XGBRegressor\n",
      "Mean Score = 15523.930623929797\n",
      "\n",
      "----Model----: SVR\n",
      "Mean Score = 55509.945899303675\n"
     ]
    }
   ],
   "source": [
    "# List model Using\n",
    "models = {\n",
    "    'LinearRegression': LinearRegression(),\n",
    "    'Lasso': Lasso(random_state=0),\n",
    "    'ElasticNet': ElasticNet(random_state=0),\n",
    "    'SGDRegressor': SGDRegressor(),\n",
    "    \"BaggingRegressor\": BaggingRegressor(random_state=0), \n",
    "    \"AdaBoostRegressor\": AdaBoostRegressor(random_state=0),\n",
    "    \"GradientBoostingRegressor\": GradientBoostingRegressor(random_state=0), \n",
    "    \"RandomForestRegressor\": RandomForestRegressor(random_state=0),\n",
    "    \"XGBRegressor\": XGBRegressor(n_estimators=500,learning_rate=0.05, n_jobs=4),\n",
    "    'SVR': SVR()\n",
    "       }\n",
    "\n",
    "# using default hyperparameter\n",
    "for name_model, model in models.items():\n",
    "    my_pipeline = Pipeline(steps=[('preprocessor', preprocess),\n",
    "                                  ('model', model)])\n",
    "    evaluate_model(my_pipeline, name_model)"
   ]
  },
  {
   "cell_type": "code",
   "execution_count": 7,
   "metadata": {},
   "outputs": [
    {
     "data": {
      "text/plain": [
       "\"parametersGrid = { \\n    'subsample':[0.7,0.8,0.9],\\n    'alpha': [0.001, 0.01, 0.05,0.1],\\n    'learning_rate': [0.001,0.01, 0.05, 0.1, 0.5],\\n    'n_estimators':[20, 50, 80, 100,150,200],\\n                 }\\n\\nkfold = KFold(n_splits=5)\\n\\nGBR_grid = GridSearchCV(GradientBoostingRegressor(random_state=0), parametersGrid, scoring='neg_root_mean_squared_error', cv=kfold)\\nGBR_grid.fit(preprocess.fit_transform(X),y)\\n\\n\\nprint(GBR_grid.best_params_)\""
      ]
     },
     "execution_count": 7,
     "metadata": {},
     "output_type": "execute_result"
    }
   ],
   "source": [
    "# find best hyperparameters\n",
    "'''parametersGrid = { \n",
    "    'subsample':[0.7,0.8,0.9],\n",
    "    'alpha': [0.001, 0.01, 0.05,0.1],\n",
    "    'learning_rate': [0.001,0.01, 0.05, 0.1, 0.5],\n",
    "    'n_estimators':[20, 50, 80, 100,150,200],\n",
    "                 }\n",
    "\n",
    "kfold = KFold(n_splits=5)\n",
    "\n",
    "GBR_grid = GridSearchCV(GradientBoostingRegressor(random_state=0), parametersGrid, scoring='neg_root_mean_squared_error', cv=kfold)\n",
    "GBR_grid.fit(preprocess.fit_transform(X),y)\n",
    "\n",
    "\n",
    "print(GBR_grid.best_params_)'''"
   ]
  },
  {
   "cell_type": "code",
   "execution_count": 8,
   "metadata": {},
   "outputs": [
    {
     "data": {
      "text/plain": [
       "\"my_best_GBR_model = GradientBoostingRegressor(random_state=0,\\n                                              alpha= 0.001,learning_rate= 0.1, n_estimators= 100, subsample= 0.8)\\nmy_model = Pipeline(steps=[('preprocessor',preprocess),\\n                          ('model', my_best_GBR_model)])\\nmy_model.fit(X, y)\""
      ]
     },
     "execution_count": 8,
     "metadata": {},
     "output_type": "execute_result"
    }
   ],
   "source": [
    "'''my_best_GBR_model = GradientBoostingRegressor(random_state=0,\n",
    "                                              alpha= 0.001,learning_rate= 0.1, n_estimators= 100, subsample= 0.8)\n",
    "my_model = Pipeline(steps=[('preprocessor',preprocess),\n",
    "                          ('model', my_best_GBR_model)])\n",
    "my_model.fit(X, y)'''"
   ]
  },
  {
   "cell_type": "code",
   "execution_count": 9,
   "metadata": {},
   "outputs": [
    {
     "name": "stdout",
     "output_type": "stream",
     "text": [
      "{'alpha': 0.1, 'learning_rate': 0.05, 'n_estimators': 500, 'n_jobs': 2}\n"
     ]
    }
   ],
   "source": [
    "params = { \n",
    "    'alpha': [0.005,0.05,0.1],\n",
    "    'learning_rate': [0.01, 0.05, 0.1],\n",
    "    'n_estimators':[200, 400, 500],\n",
    "    'n_jobs': [2,3,4]\n",
    "                 }\n",
    "\n",
    "kfold = KFold(n_splits=5)\n",
    "\n",
    "XGB_grid = GridSearchCV(XGBRegressor(random_state=0), params, scoring='neg_root_mean_squared_error', cv=kfold)\n",
    "XGB_grid.fit(preprocess.fit_transform(X),y)\n",
    "\n",
    "\n",
    "print(XGB_grid.best_params_)"
   ]
  },
  {
   "cell_type": "code",
   "execution_count": 12,
   "metadata": {},
   "outputs": [
    {
     "data": {
      "text/plain": [
       "0.9986536638669821"
      ]
     },
     "execution_count": 12,
     "metadata": {},
     "output_type": "execute_result"
    }
   ],
   "source": [
    "my_best_GBR_model = XGBRegressor(random_state=0,alpha = 0.1,learning_rate=0.05, \n",
    "                                              n_estimators=500,n_jobs = 2)\n",
    "my_model = Pipeline(steps=[('preprocessor',preprocess),\n",
    "                          ('model', my_best_GBR_model)])\n",
    "my_model.fit(X, y)\n",
    "my_model.score(X,y)"
   ]
  },
  {
   "cell_type": "code",
   "execution_count": 14,
   "metadata": {},
   "outputs": [],
   "source": [
    "y_pred = my_model.predict(test)\n",
    "df = pd.DataFrame({\"SalePrice\": y_pred},index = test.Id)"
   ]
  },
  {
   "cell_type": "code",
   "execution_count": 15,
   "metadata": {},
   "outputs": [
    {
     "data": {
      "text/html": [
       "<div>\n",
       "<style scoped>\n",
       "    .dataframe tbody tr th:only-of-type {\n",
       "        vertical-align: middle;\n",
       "    }\n",
       "\n",
       "    .dataframe tbody tr th {\n",
       "        vertical-align: top;\n",
       "    }\n",
       "\n",
       "    .dataframe thead th {\n",
       "        text-align: right;\n",
       "    }\n",
       "</style>\n",
       "<table border=\"1\" class=\"dataframe\">\n",
       "  <thead>\n",
       "    <tr style=\"text-align: right;\">\n",
       "      <th></th>\n",
       "      <th>SalePrice</th>\n",
       "    </tr>\n",
       "    <tr>\n",
       "      <th>Id</th>\n",
       "      <th></th>\n",
       "    </tr>\n",
       "  </thead>\n",
       "  <tbody>\n",
       "    <tr>\n",
       "      <th>1461</th>\n",
       "      <td>125711.031250</td>\n",
       "    </tr>\n",
       "    <tr>\n",
       "      <th>1462</th>\n",
       "      <td>156090.234375</td>\n",
       "    </tr>\n",
       "    <tr>\n",
       "      <th>1463</th>\n",
       "      <td>185638.171875</td>\n",
       "    </tr>\n",
       "    <tr>\n",
       "      <th>1464</th>\n",
       "      <td>192725.406250</td>\n",
       "    </tr>\n",
       "    <tr>\n",
       "      <th>1465</th>\n",
       "      <td>186541.859375</td>\n",
       "    </tr>\n",
       "    <tr>\n",
       "      <th>...</th>\n",
       "      <td>...</td>\n",
       "    </tr>\n",
       "    <tr>\n",
       "      <th>2915</th>\n",
       "      <td>77269.039062</td>\n",
       "    </tr>\n",
       "    <tr>\n",
       "      <th>2916</th>\n",
       "      <td>83401.648438</td>\n",
       "    </tr>\n",
       "    <tr>\n",
       "      <th>2917</th>\n",
       "      <td>164714.468750</td>\n",
       "    </tr>\n",
       "    <tr>\n",
       "      <th>2918</th>\n",
       "      <td>121556.148438</td>\n",
       "    </tr>\n",
       "    <tr>\n",
       "      <th>2919</th>\n",
       "      <td>207483.718750</td>\n",
       "    </tr>\n",
       "  </tbody>\n",
       "</table>\n",
       "<p>1459 rows × 1 columns</p>\n",
       "</div>"
      ],
      "text/plain": [
       "          SalePrice\n",
       "Id                 \n",
       "1461  125711.031250\n",
       "1462  156090.234375\n",
       "1463  185638.171875\n",
       "1464  192725.406250\n",
       "1465  186541.859375\n",
       "...             ...\n",
       "2915   77269.039062\n",
       "2916   83401.648438\n",
       "2917  164714.468750\n",
       "2918  121556.148438\n",
       "2919  207483.718750\n",
       "\n",
       "[1459 rows x 1 columns]"
      ]
     },
     "execution_count": 15,
     "metadata": {},
     "output_type": "execute_result"
    }
   ],
   "source": [
    "df"
   ]
  },
  {
   "cell_type": "code",
   "execution_count": null,
   "metadata": {},
   "outputs": [],
   "source": [
    "#df.to_csv(\"4thSumis.csv\")"
   ]
  },
  {
   "cell_type": "code",
   "execution_count": null,
   "metadata": {},
   "outputs": [],
   "source": []
  }
 ],
 "metadata": {
  "kernelspec": {
   "display_name": "Python 3",
   "language": "python",
   "name": "python3"
  },
  "language_info": {
   "codemirror_mode": {
    "name": "ipython",
    "version": 3
   },
   "file_extension": ".py",
   "mimetype": "text/x-python",
   "name": "python",
   "nbconvert_exporter": "python",
   "pygments_lexer": "ipython3",
   "version": "3.8.3"
  }
 },
 "nbformat": 4,
 "nbformat_minor": 4
}
